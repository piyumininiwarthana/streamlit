{
 "cells": [
  {
   "cell_type": "code",
   "execution_count": 1,
   "metadata": {},
   "outputs": [],
   "source": [
    "import pandas as pd\n",
    "import numpy as np\n",
    "import os\n",
    "import pickle\n",
    "from sklearn.model_selection import train_test_split\n",
    "from sklearn.linear_model import LinearRegression\n",
    "from sklearn.metrics import mean_squared_error, r2_score"
   ]
  },
  {
   "cell_type": "code",
   "execution_count": 4,
   "metadata": {},
   "outputs": [
    {
     "name": "stdout",
     "output_type": "stream",
     "text": [
      "Dataset loaded successfully ✅\n",
      "   Order ID        Date             Product  Price  Quantity Purchase Type  \\\n",
      "0     10452  07-11-2022               Fries   3.49    573.07       Online    \n",
      "1     10453  07-11-2022           Beverages   2.95    745.76       Online    \n",
      "2     10454  07-11-2022       Sides & Other   4.99    200.40     In-store    \n",
      "3     10455  08-11-2022             Burgers  12.99    569.67     In-store    \n",
      "4     10456  08-11-2022  Chicken Sandwiches   9.95    201.01     In-store    \n",
      "\n",
      "  Payment Method             Manager    City  \n",
      "0      Gift Card    Tom      Jackson  London  \n",
      "1      Gift Card         Pablo Perez  Madrid  \n",
      "2      Gift Card       Joao    Silva  Lisbon  \n",
      "3    Credit Card       Walter Muller  Berlin  \n",
      "4    Credit Card       Walter Muller  Berlin  \n"
     ]
    }
   ],
   "source": [
    "DATA_PATH = os.path.join(\"..\", \"data\", \"Sales-Data-Analysis.csv\")\n",
    "\n",
    "if not os.path.exists(DATA_PATH):\n",
    "    raise FileNotFoundError(f\"Dataset not found at {DATA_PATH}\")\n",
    "\n",
    "df = pd.read_csv(DATA_PATH)\n",
    "print(\"Dataset loaded successfully ✅\")\n",
    "print(df.head())"
   ]
  },
  {
   "cell_type": "code",
   "execution_count": 5,
   "metadata": {},
   "outputs": [
    {
     "name": "stdout",
     "output_type": "stream",
     "text": [
      "Data cleaned successfully ✅\n"
     ]
    },
    {
     "name": "stderr",
     "output_type": "stream",
     "text": [
      "C:\\Users\\HP\\AppData\\Local\\Temp\\ipykernel_13208\\3077013512.py:16: FutureWarning: errors='ignore' is deprecated and will raise in a future version. Use to_numeric without passing `errors` and catch exceptions explicitly instead\n",
      "  df[col] = pd.to_numeric(df[col], errors='ignore')\n"
     ]
    }
   ],
   "source": [
    "df.columns = [c.strip() for c in df.columns]  \n",
    "\n",
    "for col in df.select_dtypes(include=[\"object\"]).columns:\n",
    "    df[col] = df[col].astype(str).str.strip()\n",
    "\n",
    "# Convert Date column if it exists\n",
    "if 'Date' in df.columns:\n",
    "    df['Date'] = pd.to_datetime(df['Date'], errors='coerce')\n",
    "    df['Year'] = df['Date'].dt.year\n",
    "    df['Month'] = df['Date'].dt.month\n",
    "    df['Day'] = df['Date'].dt.day\n",
    "\n",
    "# Try converting object columns to numeric where possible\n",
    "for col in df.columns:\n",
    "    if df[col].dtype == 'object':\n",
    "        df[col] = pd.to_numeric(df[col], errors='ignore')\n",
    "\n",
    "print(\"Data cleaned successfully ✅\")"
   ]
  },
  {
   "cell_type": "code",
   "execution_count": 6,
   "metadata": {},
   "outputs": [
    {
     "name": "stdout",
     "output_type": "stream",
     "text": [
      "Feature engineering complete ✅\n",
      "   Order ID       Date             Product  Price  Quantity Purchase Type  \\\n",
      "0     10452 2022-07-11               Fries   3.49    573.07        Online   \n",
      "1     10453 2022-07-11           Beverages   2.95    745.76        Online   \n",
      "2     10454 2022-07-11       Sides & Other   4.99    200.40      In-store   \n",
      "3     10455 2022-08-11             Burgers  12.99    569.67      In-store   \n",
      "4     10456 2022-08-11  Chicken Sandwiches   9.95    201.01      In-store   \n",
      "\n",
      "  Payment Method           Manager    City    Year  Month   Day    Revenue  \n",
      "0      Gift Card  Tom      Jackson  London  2022.0    7.0  11.0  2000.0143  \n",
      "1      Gift Card       Pablo Perez  Madrid  2022.0    7.0  11.0  2199.9920  \n",
      "2      Gift Card     Joao    Silva  Lisbon  2022.0    7.0  11.0   999.9960  \n",
      "3    Credit Card     Walter Muller  Berlin  2022.0    8.0  11.0  7400.0133  \n",
      "4    Credit Card     Walter Muller  Berlin  2022.0    8.0  11.0  2000.0495  \n"
     ]
    }
   ],
   "source": [
    "if 'Price' in df.columns and 'Quantity' in df.columns:\n",
    "    df['Price'] = pd.to_numeric(df['Price'], errors='coerce')\n",
    "    df['Quantity'] = pd.to_numeric(df['Quantity'], errors='coerce')\n",
    "    df['Revenue'] = df['Price'] * df['Quantity']\n",
    "\n",
    "# Drop rows with missing values\n",
    "df = df.dropna()\n",
    "\n",
    "print(\"Feature engineering complete ✅\")\n",
    "print(df.head())"
   ]
  },
  {
   "cell_type": "code",
   "execution_count": 7,
   "metadata": {},
   "outputs": [
    {
     "name": "stdout",
     "output_type": "stream",
     "text": [
      "Data split into training and testing sets ✅\n"
     ]
    }
   ],
   "source": [
    "if 'Revenue' not in df.columns:\n",
    "    raise ValueError(\"Revenue column not found. Please check feature engineering step.\")\n",
    "\n",
    "X = df[['Price', 'Quantity']]\n",
    "y = df['Revenue']\n",
    "\n",
    "X_train, X_test, y_train, y_test = train_test_split(\n",
    "    X, y, test_size=0.2, random_state=42\n",
    ")\n",
    "\n",
    "print(\"Data split into training and testing sets ✅\")"
   ]
  },
  {
   "cell_type": "code",
   "execution_count": 8,
   "metadata": {},
   "outputs": [
    {
     "name": "stdout",
     "output_type": "stream",
     "text": [
      "Model trained successfully ✅\n"
     ]
    }
   ],
   "source": [
    "model = LinearRegression()\n",
    "model.fit(X_train, y_train)\n",
    "print(\"Model trained successfully ✅\")\n"
   ]
  },
  {
   "cell_type": "code",
   "execution_count": 9,
   "metadata": {},
   "outputs": [
    {
     "name": "stdout",
     "output_type": "stream",
     "text": [
      "Model saved to ..\\model.pkl ✅\n"
     ]
    }
   ],
   "source": [
    "MODEL_PATH = os.path.join(\"..\", \"model.pkl\")\n",
    "with open(MODEL_PATH, \"wb\") as file:\n",
    "    pickle.dump(model, file)\n",
    "\n",
    "print(f\"Model saved to {MODEL_PATH} ✅\")"
   ]
  },
  {
   "cell_type": "code",
   "execution_count": 10,
   "metadata": {},
   "outputs": [
    {
     "name": "stdout",
     "output_type": "stream",
     "text": [
      "Loaded model from disk ✅\n",
      "Sample prediction: [48688.42025254]\n"
     ]
    },
    {
     "name": "stderr",
     "output_type": "stream",
     "text": [
      "c:\\Users\\HP\\AppData\\Local\\Programs\\Python\\Python313\\Lib\\site-packages\\sklearn\\utils\\validation.py:2749: UserWarning: X does not have valid feature names, but LinearRegression was fitted with feature names\n",
      "  warnings.warn(\n"
     ]
    }
   ],
   "source": [
    "with open(MODEL_PATH, \"rb\") as file:\n",
    "    loaded_model = pickle.load(file)\n",
    "\n",
    "print(\"Loaded model from disk ✅\")\n",
    "sample_input = [[100, 2]]  # Price=100, Quantity=2\n",
    "print(f\"Sample prediction: {loaded_model.predict(sample_input)}\")"
   ]
  }
 ],
 "metadata": {
  "kernelspec": {
   "display_name": "Python 3",
   "language": "python",
   "name": "python3"
  },
  "language_info": {
   "codemirror_mode": {
    "name": "ipython",
    "version": 3
   },
   "file_extension": ".py",
   "mimetype": "text/x-python",
   "name": "python",
   "nbconvert_exporter": "python",
   "pygments_lexer": "ipython3",
   "version": "3.13.5"
  }
 },
 "nbformat": 4,
 "nbformat_minor": 2
}
